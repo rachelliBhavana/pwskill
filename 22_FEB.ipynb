{
 "cells": [
  {
   "cell_type": "code",
   "execution_count": 10,
   "id": "ff752ca3-cdd3-4d53-9b23-e55c4386a46a",
   "metadata": {},
   "outputs": [
    {
     "name": "stdout",
     "output_type": "stream",
     "text": [
      "0     4\n",
      "1     8\n",
      "2    15\n",
      "3    16\n",
      "4    23\n",
      "5    42\n",
      "dtype: int64\n"
     ]
    }
   ],
   "source": [
    "# Q1>\n",
    "import pandas as pd\n",
    "data=[4,8,15,16,23,42]\n",
    "df=pd.Series(data)\n",
    "print(df)"
   ]
  },
  {
   "cell_type": "code",
   "execution_count": 9,
   "id": "dfdf4655-ecb7-417b-93ef-1a0173c9eb8c",
   "metadata": {},
   "outputs": [
    {
     "name": "stdout",
     "output_type": "stream",
     "text": [
      "0    1\n",
      "1    2\n",
      "2    3\n",
      "3    4\n",
      "4    5\n",
      "5    6\n",
      "6    7\n",
      "7    8\n",
      "8    9\n",
      "dtype: int64\n"
     ]
    }
   ],
   "source": [
    "# Q2>\n",
    "import pandas as pd\n",
    "data=[1,2,3,4,5,6,7,8,9]\n",
    "df1=pd.Series(data)\n",
    "print(df1)"
   ]
  },
  {
   "cell_type": "code",
   "execution_count": 14,
   "id": "08e93660-c846-49f3-a025-ad076905a543",
   "metadata": {},
   "outputs": [
    {
     "name": "stdout",
     "output_type": "stream",
     "text": [
      "     name  gender age\n",
      "0   Alice  female  25\n",
      "1     Bob    male  30\n",
      "2  Claire  female  27\n"
     ]
    }
   ],
   "source": [
    "# Q3>\n",
    "import pandas as pd\n",
    "data={'name':['Alice','Bob','Claire'],'gender':['female','male','female'],'age':['25','30','27']}\n",
    "df=pd.DataFrame(data)\n",
    "print(df)"
   ]
  },
  {
   "cell_type": "code",
   "execution_count": 15,
   "id": "eebcf470-4f40-4094-a8b3-50814cbe3093",
   "metadata": {},
   "outputs": [
    {
     "name": "stdout",
     "output_type": "stream",
     "text": [
      "Series:\n",
      "0    1\n",
      "1    2\n",
      "2    3\n",
      "3    4\n",
      "4    5\n",
      "dtype: int64\n",
      "DataFrame:\n",
      "     name  gender age\n",
      "0   Alice  female  25\n",
      "1     Bob    male  30\n",
      "2  Claire  female  27\n"
     ]
    }
   ],
   "source": [
    "# Q4>\n",
    "# Dataframe is two-dimensional labeled data structure with columns of potentially different\n",
    "# types.Its similar to spreadsheet or a Sql table.\n",
    "# Each column in a DataFrame is a Pandas Series,but a DataFrame can have multiple columns,\n",
    "# whereas a Series can only have one.\n",
    "import pandas as pd\n",
    "s=pd.Series([1,2,3,4,5])\n",
    "df=pd.DataFrame({'name':['Alice','Bob','Claire'],'gender':['female','male','female'],'age':['25','30','27']})\n",
    "print('Series:')\n",
    "print(s)\n",
    "print('DataFrame:')\n",
    "print(df)"
   ]
  },
  {
   "cell_type": "code",
   "execution_count": 16,
   "id": "c2af6018-99b1-4cbd-9f39-12588eb9ba7c",
   "metadata": {},
   "outputs": [],
   "source": [
    "# Q6>\n",
    "\n",
    "# Series and DataFrame are mutable\n",
    "# Panel immutable in nature"
   ]
  },
  {
   "cell_type": "code",
   "execution_count": 18,
   "id": "8e197908-145e-44cf-8ed4-d45683e66c28",
   "metadata": {},
   "outputs": [
    {
     "name": "stdout",
     "output_type": "stream",
     "text": [
      "      name  age gender\n",
      "0  BHAVANA   21      F\n",
      "1    SHIVA   32      M\n",
      "2  SHUBHAM   18      M\n",
      "3   PRASAD   47      M\n",
      "4     SUDO   29      M\n"
     ]
    }
   ],
   "source": [
    "# Q7>\n",
    "import pandas as pd\n",
    "names = pd.Series(['BHAVANA', 'SHIVA', 'SHUBHAM', 'PRASAD', 'SUDO'])\n",
    "ages = pd.Series([21, 32, 18, 47, 29])\n",
    "genders = pd.Series(['F', 'M', 'M', 'M', 'M'])\n",
    "data={'name':names,'age':ages,'gender':genders}\n",
    "df=pd.DataFrame(data)\n",
    "print(df)"
   ]
  },
  {
   "cell_type": "code",
   "execution_count": null,
   "id": "0a0c7e27-20ad-4500-bd76-9cb2edc1d8cf",
   "metadata": {},
   "outputs": [],
   "source": [
    "# Q5>\n",
    "# 1.head(): this function can be used to display 1st 5 records\n",
    "# 2.tail(): this function can be used to display last 5 records\n",
    "# 3.type(): this fuction is use to show type \n",
    "# 4.sort_values():This function is used to sort the DataFrame by one or more columns.\n",
    "# 5.fillna():This function is used to fill missing values in the DataFrame with a specified value or method."
   ]
  }
 ],
 "metadata": {
  "kernelspec": {
   "display_name": "Python 3 (ipykernel)",
   "language": "python",
   "name": "python3"
  },
  "language_info": {
   "codemirror_mode": {
    "name": "ipython",
    "version": 3
   },
   "file_extension": ".py",
   "mimetype": "text/x-python",
   "name": "python",
   "nbconvert_exporter": "python",
   "pygments_lexer": "ipython3",
   "version": "3.9.13"
  }
 },
 "nbformat": 4,
 "nbformat_minor": 5
}
