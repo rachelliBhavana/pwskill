{
 "cells": [
  {
   "cell_type": "code",
   "execution_count": 2,
   "id": "8b74d37b-16a1-4e30-8e0d-71c8d3d78c53",
   "metadata": {},
   "outputs": [
    {
     "name": "stdout",
     "output_type": "stream",
     "text": [
      "<class 'list'>\n",
      "<class 'numpy.ndarray'>\n"
     ]
    }
   ],
   "source": [
    "# Q1>\n",
    "# There is a difference in the data type of variables list_ and array_list.\n",
    "\n",
    "# The variable list_ is a Python list, whereas array_list is a numpy array.\n",
    "\n",
    "# You can print the data types of both variables using the type() function.\n",
    "\n",
    "import numpy as np\n",
    "\n",
    "list_ = [ '1', '2', '3', '4', '5' ]\n",
    "array_list = np.array(object = list_)\n",
    "\n",
    "print(type(list_))\n",
    "print(type(array_list))\n"
   ]
  },
  {
   "cell_type": "code",
   "execution_count": 3,
   "id": "a35c50aa-c82e-460a-83d8-2d83f689bc6b",
   "metadata": {},
   "outputs": [
    {
     "name": "stdout",
     "output_type": "stream",
     "text": [
      "<class 'str'>\n",
      "<class 'str'>\n",
      "<class 'str'>\n",
      "<class 'str'>\n",
      "<class 'str'>\n",
      "<class 'numpy.str_'>\n",
      "<class 'numpy.str_'>\n",
      "<class 'numpy.str_'>\n",
      "<class 'numpy.str_'>\n",
      "<class 'numpy.str_'>\n"
     ]
    }
   ],
   "source": [
    "# Q2>\n",
    "import numpy as np\n",
    "\n",
    "list_ = [ '1', '2', '3', '4', '5' ]\n",
    "array_list = np.array(object = list_)\n",
    "for element in list_:\n",
    "    print(type(element))\n",
    "for element in array_list:\n",
    "    print(type(element))\n"
   ]
  },
  {
   "cell_type": "code",
   "execution_count": 4,
   "id": "69131f4c-1b3b-4c4a-8129-84091e1b3089",
   "metadata": {},
   "outputs": [],
   "source": [
    "# Q3>\n",
    "# Yes, there will be a difference in the data type of the elements present in both the variables, list_ and array_list\n",
    "# This change will convert the elements in list_ from strings to integers because we have specified the data type as int using the dtype parameter.\n",
    "# To print the data types of each and every element present in both the variables, list_ and array_list"
   ]
  },
  {
   "cell_type": "code",
   "execution_count": 5,
   "id": "d5dbb8a9-ac25-4183-aea7-0e2e4af93490",
   "metadata": {},
   "outputs": [
    {
     "name": "stdout",
     "output_type": "stream",
     "text": [
      "Shape of num_array: (2, 3)\n",
      "Size of num_array: 6\n"
     ]
    }
   ],
   "source": [
    "# Q4>\n",
    "import numpy as np\n",
    "\n",
    "num_list = [ [ 1 , 2 , 3 ] , [ 4 , 5 , 6 ] ]\n",
    "num_array = np.array(object=num_list)\n",
    "\n",
    "print(\"Shape of num_array:\", num_array.shape)\n",
    "\n",
    "print(\"Size of num_array:\", num_array.size)\n"
   ]
  },
  {
   "cell_type": "code",
   "execution_count": 7,
   "id": "af5612c8-46d6-42d0-9e13-ee309acfa012",
   "metadata": {},
   "outputs": [
    {
     "name": "stdout",
     "output_type": "stream",
     "text": [
      "[[0. 0. 0.]\n",
      " [0. 0. 0.]\n",
      " [0. 0. 0.]]\n"
     ]
    }
   ],
   "source": [
    "# Q5>\n",
    "import numpy as np\n",
    "\n",
    "zeros_array = np.zeros((3, 3))\n",
    "\n",
    "print(zeros_array)\n"
   ]
  },
  {
   "cell_type": "code",
   "execution_count": 8,
   "id": "e8df89cc-6331-41bc-a5cb-058aceed612b",
   "metadata": {},
   "outputs": [
    {
     "name": "stdout",
     "output_type": "stream",
     "text": [
      "[[1. 0. 0. 0. 0.]\n",
      " [0. 1. 0. 0. 0.]\n",
      " [0. 0. 1. 0. 0.]\n",
      " [0. 0. 0. 1. 0.]\n",
      " [0. 0. 0. 0. 1.]]\n"
     ]
    }
   ],
   "source": [
    "# Q6>\n",
    "import numpy as np\n",
    "\n",
    "identity_array = np.identity(5)\n",
    "\n",
    "print(identity_array)"
   ]
  },
  {
   "cell_type": "code",
   "execution_count": null,
   "id": "0a141c5e-f902-416d-a6f6-54b03dbdced6",
   "metadata": {},
   "outputs": [],
   "source": []
  }
 ],
 "metadata": {
  "kernelspec": {
   "display_name": "Python 3 (ipykernel)",
   "language": "python",
   "name": "python3"
  },
  "language_info": {
   "codemirror_mode": {
    "name": "ipython",
    "version": 3
   },
   "file_extension": ".py",
   "mimetype": "text/x-python",
   "name": "python",
   "nbconvert_exporter": "python",
   "pygments_lexer": "ipython3",
   "version": "3.9.13"
  }
 },
 "nbformat": 4,
 "nbformat_minor": 5
}
